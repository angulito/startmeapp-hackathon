{
 "cells": [
  {
   "cell_type": "code",
   "execution_count": 88,
   "metadata": {},
   "outputs": [],
   "source": [
    "import numpy as np\n",
    "import pandas as pd\n",
    "\n",
    "from math import sin, cos, sqrt, atan2, radians\n",
    "import math"
   ]
  },
  {
   "cell_type": "code",
   "execution_count": 89,
   "metadata": {},
   "outputs": [],
   "source": [
    "def distance(lat1, lon1, lat2, lon2):\n",
    "    # approximate radius of earth in km\n",
    "    R = 6373.0\n",
    "\n",
    "    dlon = lon2 - lon1\n",
    "    dlat = lat2 - lat1\n",
    "\n",
    "    a = sin(dlat / 2)**2 + cos(lat1) * cos(lat2) * sin(dlon / 2)**2\n",
    "    c = 2 * atan2(sqrt(a), sqrt(1 - a))\n",
    "\n",
    "    distance = R * c\n",
    "    \n",
    "    return distance"
   ]
  },
  {
   "cell_type": "code",
   "execution_count": 90,
   "metadata": {},
   "outputs": [],
   "source": [
    "class AIBici():\n",
    "    BICYCLE_RATIO = 0.7\n",
    "\n",
    "    def __init__(self):\n",
    "        self.parking = pd.read_csv('../datasets/aparcabicis.csv', encoding = \"ISO-8859-1\", delimiter=';')\n",
    "        self.pollution = pd.read_csv('../datasets/datos_calidad.csv', encoding = \"ISO-8859-1\")\n",
    "        self.accidents = pd.read_csv('../datasets/AccidentesBicicletas_2018.csv', encoding = \"ISO-8859-1\")\n",
    "    \n",
    "    def nearest_parking(self, loc):\n",
    "        best_distance = math.inf\n",
    "        for index, row in self.parking.iterrows():\n",
    "            dist = distance(*loc, row['LATITUD'], row['LONGITUD'])\n",
    "            \n",
    "            if dist < best_distance:\n",
    "                best_distance = dist\n",
    "                best_parking = row['IDENTIFICADOR_MINT']\n",
    "                best_loc = (row['LATITUD'], row['LONGITUD'])\n",
    "                \n",
    "        return {'distance': best_distance, 'id': best_parking, 'location': best_loc}\n",
    "    \n",
    "    def bicycle_time(self, results):\n",
    "        dist_a = results.get('parking_start').get('distance')\n",
    "        dist_b = results.get('parking_end').get('distance')\n",
    "        time = self.BICYCLE_RATIO*results.get('parking_distance') + dist_a + dist_b\n",
    "        return time\n",
    "    \n",
    "    def bicycle_a_to_b(self, a, b):\n",
    "        p_a = self.nearest_parking(a)\n",
    "        p_b = self.nearest_parking(b)\n",
    "        \n",
    "        dist_pa_pb = distance(*p_a.get('location'), *p_b.get('location'))\n",
    "        \n",
    "        results = {}\n",
    "        results['parking_start'] = p_a\n",
    "        results['parking_end'] = p_b\n",
    "        results['parking_distance'] = dist_pa_pb\n",
    "        results['time_expected'] = self.bicycle_time(results)\n",
    "        \n",
    "        return results\n",
    "    \n",
    "    def walking_a_to_b(self, a, b):\n",
    "        results = {}\n",
    "        dist = distance(*a, *b)\n",
    "        results['distance'] = dist\n",
    "        results['time_expected'] = dist\n",
    "        return results\n",
    "    \n",
    "    def test(self):\n",
    "        return self.parking.describe()"
   ]
  },
  {
   "cell_type": "code",
   "execution_count": 91,
   "metadata": {},
   "outputs": [
    {
     "name": "stdout",
     "output_type": "stream",
     "text": [
      "-----------\n",
      "{'parking_end': {'location': (40.43878865, -3.62153276), 'distance': 16.580549162433748, 'id': 529196}, 'parking_distance': 529.7236978023194, 'time_expected': 393.18030057584485, 'parking_start': {'location': (40.39267224, -3.69745207), 'distance': 5.793162951787541, 'id': 3545781}}\n",
      "{'time_expected': 518.6373953317734, 'distance': 518.6373953317734}\n"
     ]
    }
   ],
   "source": [
    "a = AIBici()\n",
    "a.test()\n",
    "lat = 350.41976228\n",
    "lon = -10.70807759\n",
    "loc = (lat, lon)\n",
    "\n",
    "lat2 = 210.41976228\n",
    "lon2 = 0.70807759\n",
    "loc2 = (lat2, lon2)\n",
    "\n",
    "MATADERO_LOC = (40.392457, -3.698432)\n",
    "EL_PAIS_LOC = (40.43723, -3.623797)\n",
    "\n",
    "print('-----------')\n",
    "\n",
    "print(a.bicycle_a_to_b(MATADERO_LOC, EL_PAIS_LOC))\n",
    "print(a.walking_a_to_b(MATADERO_LOC, EL_PAIS_LOC))"
   ]
  },
  {
   "cell_type": "code",
   "execution_count": null,
   "metadata": {},
   "outputs": [],
   "source": []
  }
 ],
 "metadata": {
  "kernelspec": {
   "display_name": "Python 3",
   "language": "python",
   "name": "python3"
  },
  "language_info": {
   "codemirror_mode": {
    "name": "ipython",
    "version": 3
   },
   "file_extension": ".py",
   "mimetype": "text/x-python",
   "name": "python",
   "nbconvert_exporter": "python",
   "pygments_lexer": "ipython3",
   "version": "3.5.2"
  }
 },
 "nbformat": 4,
 "nbformat_minor": 2
}
