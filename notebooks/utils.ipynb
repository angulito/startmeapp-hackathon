{
 "cells": [
  {
   "cell_type": "code",
   "execution_count": 45,
   "metadata": {},
   "outputs": [],
   "source": [
    "import numpy as np\n",
    "import pandas as pd\n",
    "\n",
    "from math import sin, cos, sqrt, atan2, radians\n",
    "import math"
   ]
  },
  {
   "cell_type": "code",
   "execution_count": 46,
   "metadata": {},
   "outputs": [],
   "source": [
    "def distance(lat1, lon1, lat2, lon2):\n",
    "    # approximate radius of earth in km\n",
    "    R = 6373.0\n",
    "\n",
    "    dlon = lon2 - lon1\n",
    "    dlat = lat2 - lat1\n",
    "\n",
    "    a = sin(dlat / 2)**2 + cos(lat1) * cos(lat2) * sin(dlon / 2)**2\n",
    "    c = 2 * atan2(sqrt(a), sqrt(1 - a))\n",
    "\n",
    "    distance = R * c\n",
    "    \n",
    "    return distance"
   ]
  },
  {
   "cell_type": "code",
   "execution_count": 58,
   "metadata": {},
   "outputs": [],
   "source": [
    "class AIBici():\n",
    "\n",
    "    def __init__(self):\n",
    "        self.parking = pd.read_csv('../datasets/aparcabicis.csv', encoding = \"ISO-8859-1\", delimiter=';')\n",
    "        self.pollution = pd.read_csv('../datasets/datos_calidad.csv', encoding = \"ISO-8859-1\")\n",
    "        self.accidents = pd.read_csv('../datasets/AccidentesBicicletas_2018.csv', encoding = \"ISO-8859-1\")\n",
    "\n",
    "    def nearest_parking(self, lat, lon):\n",
    "        best_distance = math.inf\n",
    "        for index, row in self.parking.iterrows():\n",
    "            dist = distance(lat, lon, row['LATITUD'], row['LONGITUD'])\n",
    "            \n",
    "            if dist < best_distance:\n",
    "                best_distance = dist\n",
    "                best_parking = row['IDENTIFICADOR_MINT']\n",
    "                \n",
    "        return (best_distance, best_parking)\n",
    "    \n",
    "    def test(self):\n",
    "        return self.parking.describe()"
   ]
  },
  {
   "cell_type": "code",
   "execution_count": 60,
   "metadata": {},
   "outputs": [
    {
     "name": "stdout",
     "output_type": "stream",
     "text": [
      "Distance:  12530.295143904608 id:  227733\n"
     ]
    }
   ],
   "source": [
    "a = AIBici()\n",
    "a.test()\n",
    "lat = 350.41976228\n",
    "lon = -10.70807759\n",
    "best_distance, best_id = a.nearest_parking(lat, lon)\n",
    "print('Distance: ', best_distance, 'id: ', best_id)"
   ]
  },
  {
   "cell_type": "code",
   "execution_count": null,
   "metadata": {},
   "outputs": [],
   "source": []
  }
 ],
 "metadata": {
  "kernelspec": {
   "display_name": "Python 3",
   "language": "python",
   "name": "python3"
  },
  "language_info": {
   "codemirror_mode": {
    "name": "ipython",
    "version": 3
   },
   "file_extension": ".py",
   "mimetype": "text/x-python",
   "name": "python",
   "nbconvert_exporter": "python",
   "pygments_lexer": "ipython3",
   "version": "3.5.2"
  }
 },
 "nbformat": 4,
 "nbformat_minor": 2
}
